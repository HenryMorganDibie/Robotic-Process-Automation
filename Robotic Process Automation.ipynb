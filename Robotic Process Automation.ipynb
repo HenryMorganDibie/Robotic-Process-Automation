{
 "cells": [
  {
   "cell_type": "raw",
   "id": "ed8a565b",
   "metadata": {},
   "source": [
    "!pip install pyautogui"
   ]
  },
  {
   "cell_type": "code",
   "execution_count": 2,
   "id": "1787c013",
   "metadata": {},
   "outputs": [
    {
     "name": "stdout",
     "output_type": "stream",
     "text": [
      "RPA process completed successfully.\n"
     ]
    }
   ],
   "source": [
    "import time\n",
    "import pyautogui\n",
    "\n",
    "\n",
    "pyautogui.PAUSE = 1\n",
    "\n",
    "# Open the web browser\n",
    "pyautogui.hotkey('win', 'r')\n",
    "pyautogui.typewrite('chrome')\n",
    "pyautogui.press('enter')\n",
    "\n",
    "# Wait for the browser to open\n",
    "time.sleep(5)\n",
    "\n",
    "# Maximize the browser window\n",
    "pyautogui.hotkey('win', 'up')\n",
    "RPA tutorial\n",
    "\n",
    "# Navigate to the search engine\n",
    "pyautogui.typewrite('https://www.google.com')\n",
    "pyautogui.press('enter')\n",
    "\n",
    "# Wait for the page to load\n",
    "time.sleep(3)\n",
    "\n",
    "# Type the search query in the search box\n",
    "pyautogui.click(400, 400)  \n",
    "pyautogui.typewrite('RPA tutorial')\n",
    "pyautogui.press('enter')\n",
    "\n",
    "# Wait for the search results to load\n",
    "time.sleep(3)\n",
    "\n",
    "print(\"RPA process completed successfully.\")\n"
   ]
  },
  {
   "cell_type": "code",
   "execution_count": null,
   "id": "040c20bb",
   "metadata": {},
   "outputs": [],
   "source": []
  }
 ],
 "metadata": {
  "kernelspec": {
   "display_name": "Python 3 (ipykernel)",
   "language": "python",
   "name": "python3"
  },
  "language_info": {
   "codemirror_mode": {
    "name": "ipython",
    "version": 3
   },
   "file_extension": ".py",
   "mimetype": "text/x-python",
   "name": "python",
   "nbconvert_exporter": "python",
   "pygments_lexer": "ipython3",
   "version": "3.9.12"
  }
 },
 "nbformat": 4,
 "nbformat_minor": 5
}
